{
 "cells": [
  {
   "cell_type": "markdown",
   "metadata": {},
   "source": [
    "# Text Document Retrieval (Lab6.1)"
   ]
  },
  {
   "cell_type": "markdown",
   "metadata": {},
   "source": [
    "### 1. Crear la matriz de incidencia de terminos a partir de 6 documentos de texto.\n",
    "\n",
    "- Primero se cargan los stopwords a partir de el archivo `stop_words_spanish.txt`."
   ]
  },
  {
   "cell_type": "code",
   "execution_count": 1,
   "metadata": {},
   "outputs": [],
   "source": [
    "with open(\"./stop_words_spanish.txt\") as stopwords:\n",
    "    stopwords = [word[:-1] for word in stopwords]"
   ]
  },
  {
   "cell_type": "markdown",
   "metadata": {},
   "source": [
    "- Luego se lee cada libro en la lista de libros dada a la funcion para luego leer cada palabra y si dicha palabra aun no esta en la matriz se agrega como el numero que representa el binario cuyo indice en 1 es el indice del libro en la lista de libros. Por ejemplo:\n",
    "    Si tenemos los libros `[libro1, libro2, libro3]` y cuando estoy leyendo las palabras del libro 2 encuentro una que no esta en la matriz de indicencia aun entonces creo la llave en la matriz con esa palabra y el valor seria `\"010\"` porque esta en en libro 2.\n"
   ]
  },
  {
   "cell_type": "code",
   "execution_count": 10,
   "metadata": {},
   "outputs": [],
   "source": [
    "\n",
    "def create_matrix(books):\n",
    "\n",
    "    matrix = {}\n",
    "\n",
    "    for bookname in books:\n",
    "        with open(bookname) as libro:\n",
    "            for parrafo in libro:\n",
    "                if parrafo == \"\\n\":\n",
    "                    continue\n",
    "                parrafo = parrafo[:-1]\n",
    "                for word in parrafo.split():\n",
    "                    word = word.lower()\n",
    "                    if word.endswith((\".\", \",\", \":\", \";\")): \n",
    "                        word = word[:-1]\n",
    "                    \n",
    "                    if word in stopwords:\n",
    "                        continue\n",
    "\n",
    "                    if word in matrix:\n",
    "                        matrix[word] = matrix[word] |  2** books.index(bookname)\n",
    "                    else:\n",
    "                        matrix[word] = 2** books.index(bookname)\n",
    "    return matrix"
   ]
  },
  {
   "cell_type": "markdown",
   "metadata": {},
   "source": [
    "- Ahora que la funcion ha sido creada, esta se ejecuta para posteriormente guardar la matriz en un archivo json."
   ]
  },
  {
   "cell_type": "code",
   "execution_count": 11,
   "metadata": {},
   "outputs": [
    {
     "name": "stdout",
     "output_type": "stream",
     "text": [
      "{'obra': 1, 'comienza': 57, 'noticia': 1, 'celebración': 3, '111º': 1, 'cumpleaños': 1, 'bilbo': 33, 'bolsón': 1, 'comarca': 33, 'fiesta': 1, 'motivo': 9, 'principal': 1, 'partida': 1, 'viaje': 59, 'producto': 1, 'deseo': 1, 'terminar': 1, 'días': 59, 'paz': 1, 'tranquilidad': 1, 'mago': 39, 'gandalf': 55, 'amigo': 1, 'informado': 1, 'decisión': 1, 'hobbit': 15, 'acudió': 1, 'discurso': 1, 'pronunciado': 1, 'puso': 3, 'anillo': 43, 'mágico': 1, 'desapareció': 1, 'sorprendidos': 17, 'hobbits': 47, 'sabía': 1, 'acababa': 1, 'encontró': 3, 'cerrado': 33, 'allí': 51, 'pequeña': 1, 'discusión': 1, 'ya': 19, 'negaba': 1, 'dejar': 1, 'resto': 11, 'herencia': 1, 'sobrino': 1, 'frodo': 63, 'acabó': 1, 'convenciéndole': 1, 'partió': 3, 'dudas': 1, 'ocasionando': 1, 'busca': 59, 'información': 1, 'informar': 1, 'guarde': 1, 'toque': 1, 'veinte': 1, 'años': 1, 'regresa': 17, 'descubierto': 1, 'trataba': 5, 'rey': 61, 'isildur': 17, 'arnor': 1, 'arrebatado': 1, 'señor': 3, 'oscuro': 1, 'sauron': 63, 'encontrado': 1, 'criatura': 41, 'gollum': 41, 'haberse': 33, 'perdido': 1, 'río': 19, 'anduin': 19, 'desastre': 1, 'campos': 17, 'gladios': 1, 'quedaron': 1, 'reunirse': 1, 'aldea': 1, 'bree': 1, 'único': 9, 'rivendel': 35, 'sabios': 1, 'decidirían': 1, 'destino': 33, 'jardinero': 1, 'samsagaz': 1, 'gamyi': 1, 'traza': 1, 'plan': 1, 'salir': 9, 'pretexto': 1, 'irse': 1, 'vivir': 1, 'gamos': 1, 'acaba': 25, 'amigos': 7, 'pippin': 55, 'merry': 55, 'deciden': 29, 'acompañarle': 1, 'adentrarse': 1, 'bosque': 55, 'viejo': 33, 'evitar': 1, 'caminos': 41, 'atrapados': 1, 'hombre-sauce': 1, 'ucorno': 1, 'tiende': 1, 'trampa': 1, 'salvados': 1, 'misterioso': 1, 'personaje': 1, 'llamado': 51, 'tom': 33, 'bombadil': 33, 'pasar': 3, 'casa': 21, 'parten': 61, 'acaban': 33, 'perdidos': 1, 'niebla': 1, 'llegan': 57, 'quebradas': 1, 'túmulos': 1, 'capturados': 3, 'tumularios': 1, 'cantar': 1, 'canción': 1, 'enseñó': 1, 'acude': 17, 'ayuda': 49, 'salva': 1, 'dándoles': 1, 'armas': 1, 'tumularias': 1, 'pudieran': 1, 'defenderse': 1, 'acuden': 1, 'posada': 1, '«el': 1, 'póney': 1, 'pisador»': 1, 'quedado': 1, 'accidentalmente': 1, 'pone': 33, 'alerta': 1, 'nazgûl': 51, 'servidores': 1, 'persiguen': 1, 'arrebatárselo': 1, 'gracias': 25, 'aragorn': 55, 'nob': 1, 'logran': 33, 'salvarse': 1, 'atacan': 1, 'noche': 1, 'día': 21, 'acompañados': 17, 'parada': 1, 'amon': 3, 'sûl': 1, 'hiriendo': 1, 'gravedad': 1, 'combatirles': 1, 'escapar': 39, 'llegar': 63, 'vado': 1, 'bruinen': 1, 'encuentran': 61, 'glorfindel': 1, 'elfo': 3, 'elrond': 35, 'acompaña': 1, 'perseguidos': 1, 'ordena': 1, 'caballo': 17, 'asfaloth': 1, 'llevando': 1, 'montado': 1, 'arrastrados': 1, 'corriente': 1, 'despertó': 34, 'contó': 2, 'ocurrido': 2, 'elfos': 34, 'llevado': 10, 'encargó': 2, 'curación': 2, 'concilio': 2, 'acudirían': 2, 'representantes': 2, 'distintos': 34, 'pueblos': 2, 'tierra': 2, 'media': 2, 'tratarían': 2, 'tema': 2, 'reveló': 2, 'traición': 10, 'saruman': 38, 'pedir': 2, 'consejo': 26, 'retuvo': 2, 'preso': 2, 'isengard': 6, 'decidir': 2, 'debía': 2, 'destruido': 2, 'fuegos': 2, 'orodruin': 34, 'ofreció': 2, 'llevarlo': 2, 'sam': 46, 'invitado': 2, 'escuchado': 2, 'escondidas': 2, 'acompañar': 2, 'amo': 42, 'decidiría': 2, 'tarde': 38, 'enano': 2, 'gimli': 22, 'príncipe': 2, 'legolas': 22, 'negro': 18, 'heredero': 2, 'senescalía': 2, 'gondor': 54, 'boromir': 22, 'acompañarían': 2, 'formando': 2, 'llamada': 2, 'comunidad': 2, 'meses': 2, 'inició': 2, 'pasando': 2, 'acebeda': 2, '(la': 2, 'antigua': 2, 'eregion)': 2, 'llegaron': 18, 'montañas': 2, 'nubladas': 2, 'decidieron': 2, 'cruzarlas': 2, 'caradhras': 2, 'acercaran': 2, 'paso': 42, 'rohan': 54, 'estarían': 2, 'muerte': 58, 'mal': 2, 'clima': 2, 'montaña': 34, 'vio': 18, 'obligada': 2, 'vuelta': 18, 'atravesar': 10, 'minas': 62, 'moria': 10, 'camino': 58, 'atacada': 2, 'lobos': 2, 'consiguieron': 2, 'rechazarlos': 2, 'puerta': 58, 'oeste': 38, 'atacados': 42, 'guardián': 2, 'agua': 2, 'monstruo': 2, 'parecido': 2, 'kraken': 2, 'asentado': 2, 'lago': 2, 'cercano': 2, 'encerró': 2, 'cámara': 2, 'mazarbul': 2, 'tumba': 2, 'balin': 2, 'libro': 38, 'narraba': 2, 'acontecimientos': 6, 'ocurridos': 18, 'pueblo': 2, 'aniquilado': 2, 'orcos': 62, 'comenzaron': 2, 'oírse': 2, 'tambores': 2, 'aparecieron': 2, 'numerosos': 2, 'derrotar': 6, 'cuantos': 2, 'logró': 2, 'puente': 2, 'khazad': 2, 'dûm': 2, 'enemigo': 18, 'poderoso': 2, 'apareció': 2, 'balrog': 2, 'enfrentó': 2, 'arrojar': 2, 'caía': 2, 'cogió': 2, 'látigo': 2, 'arrastró': 2, 'abismo': 6, 'apenados': 2, 'miembros': 34, 'lothlórien': 2, 'haldir': 2, 'hermanos': 2, 'cobijo': 2, 'condujeron': 2, 'celeborn': 2, 'galadriel': 50, 'señores': 2, 'mes': 34, 'descansando': 2, 'barcas': 2, 'élficas': 2, 'siguiendo': 2, 'curso': 2, 'sarn': 2, 'gebir': 2, 'alcanzados': 2, 'creó': 2, 'lograron': 2, 'esquivarlos': 2, 'cruzando': 2, 'orilla': 2, 'prados': 2, 'parth': 22, 'galen': 22, 'pies': 34, 'hen': 2, 'apartó': 2, 'reflexionar': 2, 'seguía': 2, 'mordor': 26, 'quería': 2, 'peligro': 6, 'llevaba': 2, 'deseando': 2, 'siguió': 2, 'trató': 2, 'convencer': 2, 'destruyera': 2, 'llevara': 18, 'ciudad': 22, 'tirith': 62, 'usado': 10, 'defensa': 6, 'negativa': 2, 'intentó': 2, 'quitarle': 2, 'huir': 42, 'regresó': 2, 'contárselo': 2, 'salieron': 2, 'ordenó': 2, 'siguiera': 2, 'protegerlos': 2, 'orillas': 2, 'encontrara': 2, 'huida': 4, 'muere': 20, 'manos': 4, 'uruk-hai': 4, 'protegía': 4, 'apresados': 4, 'sirvientes': 4, 'perseguirles': 4, 'rescatar': 28, 'narración': 4, 'divide': 4, 'partes': 4, 'persecución': 4, 'cazadores': 4, 'peripecias': 4, 'éored': 4, 'rohirrim': 20, 'éomer': 52, 'mariscal': 4, 'reino': 12, 'informa': 20, 'batalla': 52, 'lindes': 4, 'fangorn': 4, 'aparentemente': 12, 'habrían': 4, 'perecido': 4, 'culmina': 4, 'descubre': 4, 'huellas': 4, 'campo': 20, 'llevan': 4, 'internarse': 4, 'reencontrarse': 4, 'convertido': 4, 'blanco': 4, 'dejando': 4, 'señales': 4, 'rescaten': 4, 'pensando': 4, 'ardides': 4, 'sufriendo': 4, 'tortura': 4, 'cansancio': 4, 'final': 4, 'escaparse': 4, 'medio': 36, 'refugiarse': 4, 'bárbol': 36, 'ent': 4, 'interior': 4, '(una': 4, 'orcos)': 4, 'ayudándolos': 4, 'reponerse': 4, 'fatigas': 4, 'enterándose': 4, 'noticias': 4, 'mundo': 4, 'exterior': 4, 'convoca': 4, 'asamblea': 4, 'congéneres': 4, 'definir': 4, 'harán': 4, 'representa': 4, 'ende': 4, 'reencuentro': 4, 'dirigen': 20, 'edoras': 52, 'liberan': 4, 'théoden': 52, 'influencia': 4, 'maligna': 4, 'ejercía': 4, 'sirviente': 4, 'gríma': 4, 'frente': 4, 'inminencia': 4, 'ataque': 20, 'aconseja': 4, 'replegarse': 4, 'helm': 4, 'defender': 4, 'territorio': 4, 'cosa': 4, 'preparan': 4, 'repliegue': 4, 'meduseld': 4, 'intención': 20, 'seguir': 4, 'estrategia': 4, 'prefijada': 4, 'oponente': 4, 'produce': 4, 'fuerzas': 20, 'combinadas': 4, 'ucornos': 4, 'oportuna': 4, 'llegada': 4, 'folde': 4, 'derrotan': 36, 'completo': 4, 'ejército': 20, 'mano': 36, 'blanca': 4, 'historias': 4, 'confluyen': 4, 'capítulos': 4, 'iii': 4, 'comitiva': 36, 'integrada': 4, 'légolas': 4, 'treintena': 4, 'caballeros': 4, 'recibidos': 4, 'sorpresa': 4, '(menos': 4, 'gandalf)': 4, 'sentados': 4, 'escombros': 4, 'puertas': 4, 'disfrutan': 4, 'desayuno': 4, 'cuentan': 4, 'experiencias': 4, 'vividas': 4, 'separación': 12, 'relatan': 4, 'ents': 4, 'derrotaron': 4, 'destruyeron': 4, 'orthanc': 36, 'mantener': 4, 'diálogo': 4, 'atrapado': 4, 'torre': 12, 'darle': 4, 'oportunidad': 4, 'retractara': 4, 'actos': 4, 'ayudara': 4, 'vencer': 4, 'niega': 4, 'dejarle': 4, 'custodia': 12, 'encerrado': 4, 'previo': 4, 'arroja': 4, 'objeto': 12, 'apresura': 4, 'guardar': 4, 'ropas': 4, 'quitándoselo': 4, 'intrigado': 4, 'curioso': 4, 'guardaba': 4, 'celosamente': 4, 'aprovechando': 4, 'dormían': 4, 'campamento': 4, 'dol': 4, 'baran': 4, 'toma': 20, 'palantir': 4, 'mira': 4, 'quedando': 4, 'mirada': 4, 'puesto': 20, 'comunicado': 4, 'barad-dûr': 4, 'horribles': 4, 'visiones': 4, 'involuntariamente': 4, 'revela': 20, 'desafortunada': 4, 'acción': 4, 'obliga': 12, 'capital': 4, 'ponerlo': 4, 'salvo': 4, '«señor': 4, 'oscuro»': 4, 'preparar': 12, 'precipitación': 4, 'compañía': 56, 'emprenden': 40, 'emyn': 8, 'muil': 8, 'vagando': 8, 'permitieran': 8, 'descender': 8, 'siguiéndolos': 8, 'consiguiendo': 8, 'amenazas': 8, 'argumentos': 8, 'convincentes': 8, 'guíe': 8, 'ciénaga': 8, 'muertos': 24, 'negra': 56, 'enorme': 8, 'cantidad': 8, 'enemigos': 40, 'custodiándola': 8, 'imposibilita': 8, 'entrar': 24, 'viajeros': 8, 'tomar': 24, 'cirith': 40, 'ungol': 40, 'suponía': 8, 'vigilado': 8, 'ithilien': 40, 'descuido': 8, 'apagado': 8, 'fuego': 8, 'comida': 8, 'faramir': 56, 'grupo': 8, 'montaraces': 24, 'atrapan': 8, 'ponen': 8, 'libraban': 8, 'escaramuza': 8, 'tropas': 24, 'harad': 8, 'escapado': 8, 'descubiertos': 8, 'capturado': 8, 'ojos': 8, 'sienta': 8, 'defraudada': 8, 'traicionada': 8, '\"amo\"': 8, 'desatando': 8, 'vuelva': 8, 'aparecer': 8, 'personalidad': 8, 'obsesionada': 8, 'descubrir': 8, 'existencia': 8, 'debatirse': 8, 'contradicciones': 8, 'finalmente': 8, 'leyes': 8, 'capitán': 8, 'deja': 40, 'libre': 8, 'continúen': 8, 'marcha': 40, 'valle': 8, 'morgul': 8, 'desaparece': 8, 'planeando': 8, 'yendo': 8, 'hurtadillas': 8, 'terreno': 8, 'desfiladero': 8, 'salida': 8, 'brujo': 24, 'marchaban': 8, '«escalera': 8, 'recta»': 8, 'ascender': 8, 'entran': 8, 'torech': 8, 'vuelve': 24, 'desaparecer': 8, 'alertar': 8, 'ella-laraña': 8, 'araña': 8, 'gigante': 8, 'presencia': 8, 'justo': 24, 'descubren': 8, 'picado': 8, 'entra': 24, 'inconsciencia': 8, 'asemeja': 8, 'llega': 40, 'ocurrir': 8, 'intervención': 8, 'lucha': 56, 'malherida': 8, 'muerto': 40, 'decide': 24, 'continuar': 8, 'misión': 24, 'emprende': 8, 'morgai': 8, 'recorrido': 8, 'metros': 8, 've': 8, 'cuerpo': 56, 'inerte': 8, 'afortunadamente': 8, 'oye': 8, 'comentar': 8, 'inmovilizado': 8, 'veneno': 8, 'oculto': 8, 'cabalgan': 16, 'lomos': 16, 'sombragrís': 16, 'presentan': 16, 'senescal': 48, 'denethor': 16, 'sucesos': 16, 'incluyendo': 16, 'hijo': 16, 'ofreciéndole': 16, 'servicios': 16, 'pago': 16, 'deuda': 16, 'gratitud': 16, 'vados': 16, 'isen': 16, 'halbarad': 16, 'elladan': 16, 'elrohir': 16, 'norte': 16, 'transmiten': 16, 'dúnadan': 16, 'sendero': 48, 'sur': 16, 'detener': 16, 'corsarios': 16, 'umbar': 16, 'habiendo': 16, 'tomado': 16, 'puerto': 16, 'pelargir': 16, 'disponían': 16, 'enviar': 16, 'flota': 16, 'apoyo': 16, 'convocan': 16, 'sagrario': 16, 'debían': 16, 'cumplir': 16, 'juramento': 16, 'librarse': 16, 'maldición': 16, 'acompañaran': 16, 'quinto': 16, 'estadía': 16, 'sombra': 16, 'espesa': 16, 'oculta': 16, 'luz': 16, 'sol': 16, 'comienzo': 16, 'sitio': 16, 'obligado': 16, 'retirarse': 16, 'rammas': 16, 'echor': 16, 'huye': 16, 'mostrar': 16, 'síntomas': 16, 'locura': 16, 'envía': 16, 'imposible': 16, 'fracasa': 16, 'gravemente': 16, 'herido': 16, 'hálito': 16, 'termina': 48, 'enloquecer': 16, 'mortuoria': 16, 'senescales': 16, 'rath': 16, 'dínen': 16, 'fueran': 16, 'quemados': 16, 'pira': 16, 'funeraria': 16, 'presenciar': 16, 'ejércitos': 16, 'terminan': 16, 'sitiar': 16, 'lanzan': 16, 'derribada': 16, 'gigantesco': 16, 'ariete': 16, 'grond': 16, 'dirigía': 16, 'resistencia': 16, 'sale': 16, 'encuentro': 16, 'enfrentándose': 16, 'cara': 16, 'reúne': 16, 'conocido': 16, 'cena': 16, 'recibe': 16, 'visita': 16, 'hirgon': 16, 'emisario': 16, 'trae': 16, 'flecha': 16, 'roja': 16, 'señal': 16, 'demandaba': 16, 'casos': 16, 'necesidad': 16, 'nube': 16, 'enviada': 16, 'cubrió': 16, 'región': 16, 'apresuró': 16, 'movilización': 16, 'mil': 16, 'lanceros': 16, 'dispusieron': 16, 'liberado': 16, 'tamaño': 16, 'supondría': 16, 'problema': 16, 'hora': 16, 'encontrar': 16, 'veloz': 16, 'estorbo': 16, 'jinete': 16, 'grupa': 16, 'partiendo': 16, 'llamar': 16, 'dernhelm': 16, 'tomó': 16, 'montó': 16, 'ocultándole': 16, 'ropajes': 48, 'acampar': 16, 'drúadan': 16, 'batidores': 16, 'millas': 16, 'esperaba': 16, 'ghân-buri-ghân': 16, 'jefe': 16, 'raza': 16, 'drúedain': 16, 'habitaba': 16, 'tomaron': 48, 'alternativo': 16, 'sexto': 16, 'cabalgata': 16, 'dispuso': 16, 'lanzó': 16, 'penetraba': 16, 'comenzó': 16, 'pelennor': 16, 'retroceder': 16, 'hombres': 16, 'rompieron': 16, 'saliendo': 16, 'luchar': 16, 'abierto': 16, 'ataca': 16, 'crinblanca': 16, 'asusta': 16, 'voltea': 16, 'cayendo': 16, 'obstante': 16, 'disponía': 16, 'rematar': 16, 'interpone': 16, 'identidad': 16, 'éowyn': 48, 'sobrina': 16, 'hermana': 48, 'observando': 16, 'escena': 16, 'espada': 16, 'estocada': 16, 'tendón': 16, 'brazo': 16, 'malherido': 16, 'descarga': 16, 'golpe': 16, 'yelmo': 16, 'harlond': 16, 'barcos': 16, 'ven': 16, 'bajan': 16, 'cientos': 16, 'suman': 16, 'victoria': 16, 'alertado': 16, 'círculo': 16, 'tratar': 16, 'traba': 16, 'enloquecido': 16, 'logra': 16, 'moribundo': 16, 'finalizada': 16, 'capitanes': 16, 'idea': 16, 'desviar': 16, 'atención': 16, 'quedan': 16, 'negarse': 48, 'condiciones': 16, 'inicia': 16, 'codicia': 32, 'cota': 32, 'malla': 32, 'mithril': 32, 'acabaron': 32, 'matándose': 32, 'facilitando': 32, 'rescate': 32, 'disfrazados': 32, 'incorporados': 32, 'tropa': 32, 'deshecho': 32, 'peso': 32, 'inútil': 32, 'monte': 32, 'borde': 32, 'agotamiento': 32, 'trepar': 32, 'cargado': 32, 'exánime': 32, 'producido': 32, 'mitad': 32, 'cargo': 32, 'continúa': 32, 'ascendiendo': 32, 'incapaz': 32, 'matar': 32, 'marcharse': 32, 'cuesta': 32, 'abajo': 32, 'sammath': 32, 'naur': 32, 'grieta': 32, 'apoderarse': 32, 'voluntad': 32, 'arrojarlo': 32, 'lava': 32, 'reaparece': 32, 'inconsciente': 32, 'invisible': 32, 'arrancándole': 32, 'mordisco': 32, 'dedo': 32, 'anular': 32, 'alegría': 32, 'recuperado': 32, 'tesoro': 32, 'darse': 32, 'cae': 32, 'muriendo': 32, 'destruyéndose': 32, 'derrotado': 32, 'obras': 32, 'estalla': 32, 'llamas': 32, 'consumiendo': 32, 'aire': 32, 'momentos': 32, 'dirigían': 32, 'guerreros': 32, 'aprovechan': 32, 'desconcierto': 32, 'contraatacar': 32, 'despiertan': 32, 'rescatados': 32, 'laderas': 32, 'gwaihir': 32, 'águilas': 32, 'conducidas': 32, 'recuperarse': 32, 'físicamente': 32, 'dirigieron': 32, 'asistieron': 32, 'héroes': 32, 'coronación': 32, 'unión': 32, 'arwen': 32, 'hija': 32, 'convirtió': 32, 'casó': 32, 'nombrado': 32, 'acudir': 32, 'funeral': 32, 'pusieron': 32, 'rumbo': 32, 'dejado': 32, 'encontraron': 32, 'tierras': 32, 'brunas': 32, 'lengua': 32, 'serpiente': 32, 'negaron': 32, 'recibir': 32, 'reencontró': 32, 'entregó': 32, 'rojo': 32, 'frontera': 32, 'continuara': 32, 'escribiendo': 32, 'aventuras': 32, 'iniciaron': 32, 'regreso': 32, 'acompañó': 32, 'marchó': 32, 'visitar': 32, 'tomada': 32, 'dunlendinos': 32, 'seguían': 32, 'órdenes': 32, 'derrotando': 32, 'invasores': 32, 'conoció': 32, 'delagua': 32, 'hobbiton': 32, 'grima': 32, 'cansado': 32, 'humillaciones': 32, 'flechazos': 32, 'saneamiento': 32, 'reconstrucción': 32, 'año': 32, 'previsto': 32, 'acompañado': 32, 'juntos': 32, 'viajan': 32, 'puertos': 32, 'grises': 32, 'esperaban': 32, 'círdan': 32, 'dolorosa': 32, 'despedida': 32, 'barco': 32, 'imperecederas': 32}\n"
     ]
    }
   ],
   "source": [
    "\n",
    "books = [f\"./libro{i}.txt\" for i in range(1, 7)]\n",
    "\n",
    "matrix = create_matrix(books)\n",
    "print(matrix)\n",
    "\n",
    "import json\n",
    "with open(\"matrix.json\", 'w') as matrixjson:\n",
    "    json.dump(matrix, matrixjson, indent=4)"
   ]
  },
  {
   "cell_type": "markdown",
   "metadata": {},
   "source": [
    "### 2. Resultado de aplicar las consultas booleanas.\n",
    "\n",
    "- Elaborar 3 consultas textuales y su equivalente en consulta booleana.\n",
    "\n",
    "1. Obra AND Noticia AND NOT Fiesta.\n",
    "2. Obra AND Noticia AND NOT Fiesta.\n",
    "3. Obra AND Noticia AND NOT Fiesta.\n",
    "\n",
    "- Implementando la funcion de recuperacion booleana.\n",
    "    - La funcion recibira el parametro query que sera un diccionario de la forma `<word, query_type>`:\n",
    "        ```py\n",
    "            query = {\n",
    "                \"Obra\": True,\n",
    "                \"Noticia\": True,\n",
    "                \"Fiesta\": False\n",
    "            }\n",
    "        ```"
   ]
  },
  {
   "cell_type": "code",
   "execution_count": 13,
   "metadata": {},
   "outputs": [
    {
     "name": "stdout",
     "output_type": "stream",
     "text": [
      "0b111111\n"
     ]
    }
   ],
   "source": [
    "def boolean_retrieval(query):\n",
    "    values = []\n",
    "    for word in query:\n",
    "        if not query[word]:\n",
    "            values.append()\n",
    "\n",
    "query = {\n",
    "            \"Obra\": True,\n",
    "            \"Noticia\": True,\n",
    "            \"Fiesta\": False\n",
    "        }\n",
    "\n",
    "boolean_retrieval(query)"
   ]
  }
 ],
 "metadata": {
  "kernelspec": {
   "display_name": "Python 3",
   "language": "python",
   "name": "python3"
  },
  "language_info": {
   "codemirror_mode": {
    "name": "ipython",
    "version": 3
   },
   "file_extension": ".py",
   "mimetype": "text/x-python",
   "name": "python",
   "nbconvert_exporter": "python",
   "pygments_lexer": "ipython3",
   "version": "3.9.6"
  },
  "orig_nbformat": 4
 },
 "nbformat": 4,
 "nbformat_minor": 2
}
